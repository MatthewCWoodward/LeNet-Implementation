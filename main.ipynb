{
  "cells": [
    {
      "cell_type": "markdown",
      "metadata": {},
      "source": [
        "**LeNet Architecture**\n",
        "- Input         (28x28x1)\n",
        "- Convolution   (5x5 kernel + 2 padding)\n",
        "- Sigmoid\n",
        "- Pool          (2x2 avg kernel + 2 stride)\n",
        "- Convolution   (5x5 kernel)\n",
        "- Sigmoid\n",
        "- Pool          (2x2 avg kernel + 2 stride)\n",
        "- Flatten\n",
        "- Dense         (120 neurons)\n",
        "- Sigmoid\n",
        "- Dense         (84 neurons)\n",
        "- Sigmoid\n",
        "- Dense         (10 neurons)\n",
        "- Softmax"
      ]
    },
    {
      "cell_type": "code",
      "execution_count": null,
      "metadata": {
        "id": "5fAdfDkwVh9T"
      },
      "outputs": [],
      "source": [
        "import numpy as np\n",
        "\n",
        "class MyLeNet:\n",
        "    # create the layers, weights, and biases of the network\n",
        "    def __init__(self):\n",
        "        pass\n",
        "\n",
        "    # forward pass through the network\n",
        "    def forward(self):\n",
        "        pass\n",
        "\n",
        "    # backward pass through the network, used during training\n",
        "    def backward(self):\n",
        "        pass\n",
        "\n",
        "    # matrix convolution\n",
        "    def conv(self):\n",
        "        pass\n",
        "\n",
        "    # matrix pooling\n",
        "    def pool(self):\n",
        "        pass\n",
        "\n",
        "    # sigmoid activation function\n",
        "    def sigmoid(self):\n",
        "        pass\n",
        "\n",
        "    # softmax activation function\n",
        "    def softmax(self):\n",
        "        pass\n",
        "\n",
        "    # cross-entropy loss function\n",
        "    def loss(self):\n",
        "        pass"
      ]
    }
  ],
  "metadata": {
    "colab": {
      "authorship_tag": "ABX9TyMgwwKI5DlFF7TgpszV/Szv",
      "provenance": []
    },
    "kernelspec": {
      "display_name": "Python 3",
      "name": "python3"
    },
    "language_info": {
      "name": "python"
    }
  },
  "nbformat": 4,
  "nbformat_minor": 0
}
