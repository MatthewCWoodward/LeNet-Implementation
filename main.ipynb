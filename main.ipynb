{
  "cells": [
    {
      "cell_type": "markdown",
      "metadata": {},
      "source": [
        "**LeNet Architecture**\n",
        "- Input         (28x28x1)\n",
        "- Convolution   (5x5 kernel + 2 padding)\n",
        "- Sigmoid\n",
        "- Pool          (2x2 avg kernel + 2 stride)\n",
        "- Convolution   (5x5 kernel)\n",
        "- Sigmoid\n",
        "- Pool          (2x2 avg kernel + 2 stride)\n",
        "- Flatten\n",
        "- Dense         (120 neurons)\n",
        "- Sigmoid\n",
        "- Dense         (84 neurons)\n",
        "- Sigmoid\n",
        "- Dense         (10 neurons)\n",
        "- Softmax"
      ]
    },
    {
      "cell_type": "code",
      "execution_count": null,
      "metadata": {},
      "outputs": [],
      "source": [
        "import numpy as np\n",
        "\n",
        "class ConvolutionalLayer:\n",
        "    \"\"\"\n",
        "    This class represents a single convolutional layer of a CNN. It keeps track of its filters, weights, biases, and feature maps\n",
        "    \"\"\"\n",
        "\n",
        "    def __init__(self, in_channels, out_channels, kernel, stride=1, padding=0):\n",
        "        \"\"\"\n",
        "        Initialize the layer's filters with random weights and bias terms\n",
        "        \"\"\"\n",
        "        self.stride = stride\n",
        "        self.padding = padding\n",
        "\n",
        "        self.filterStack = np.random.normal(loc=0, scale=0.01, size=(out_channels, in_channels, kernel, kernel))\n",
        "        self.bias = np.random.normal(loc=0, scale=0.01, size=(out_channels))\n",
        "\n",
        "    def convolve(self, input):\n",
        "        \"\"\"\n",
        "        Perform 2D convolution with the input and filter stack\n",
        "        \"\"\"\n",
        "        # input follows shape (batch_size, in_channels, height, width)\n",
        "        batch_size, in_channels, height, width = input.shape\n",
        "\n",
        "        # calculate output height and width\n",
        "        \n",
        "\n",
        "        # declare output of shape (batch_size, output_channels, output_height, output_width)\n",
        "        output = np.zeros((batch_size, in_channels, output_height, output_width))"
      ]
    },
    {
      "cell_type": "code",
      "execution_count": null,
      "metadata": {
        "id": "5fAdfDkwVh9T"
      },
      "outputs": [],
      "source": [
        "import numpy as np\n",
        "\n",
        "class MyLeNet:\n",
        "    # create the layers, weights, and biases of the network\n",
        "    def __init__(self):\n",
        "        pass\n",
        "\n",
        "    # forward pass through the network\n",
        "    def forward(self):\n",
        "        pass\n",
        "\n",
        "    # backward pass through the network, used during training\n",
        "    def backward(self):\n",
        "        pass\n",
        "\n",
        "    # matrix convolution\n",
        "    def conv(self):\n",
        "        pass\n",
        "\n",
        "    # matrix pooling\n",
        "    def pool(self):\n",
        "        pass\n",
        "\n",
        "    # sigmoid activation function\n",
        "    def sigmoid(self):\n",
        "        pass\n",
        "\n",
        "    # softmax activation function\n",
        "    def softmax(self):\n",
        "        pass\n",
        "\n",
        "    # cross-entropy loss function\n",
        "    def loss(self):\n",
        "        pass"
      ]
    }
  ],
  "metadata": {
    "colab": {
      "authorship_tag": "ABX9TyMgwwKI5DlFF7TgpszV/Szv",
      "provenance": []
    },
    "kernelspec": {
      "display_name": "Python 3",
      "name": "python3"
    },
    "language_info": {
      "name": "python"
    }
  },
  "nbformat": 4,
  "nbformat_minor": 0
}
